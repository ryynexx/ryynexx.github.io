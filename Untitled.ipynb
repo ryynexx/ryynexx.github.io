{
 "cells": [
  {
   "cell_type": "code",
   "execution_count": 2,
   "id": "6d6166b2-e355-4aab-ab7c-90fc0751910c",
   "metadata": {},
   "outputs": [
    {
     "name": "stdout",
     "output_type": "stream",
     "text": [
      "Initial word: ABRACADABRA\n",
      "Huffman code: 01101110100010101101110\n",
      "Conversion table: {'A': '0', 'C': '100', 'D': '101', 'B': '110', 'R': '111'}\n",
      "Decoded word: ABRACADABRA\n"
     ]
    }
   ],
   "source": [
    "class Node:\n",
    "    def __init__(self, char=None, freq=0):\n",
    "        self.char = char\n",
    "        self.freq = freq\n",
    "        self.left = None\n",
    "        self.right = None\n",
    "\n",
    "nodes = []\n",
    "\n",
    "def calculate_frequencies(word):\n",
    "    frequencies = {}\n",
    "    for char in word:\n",
    "        if char not in frequencies:\n",
    "            freq = word.count(char)\n",
    "            frequencies[char] = freq\n",
    "            nodes.append(Node(char, freq))\n",
    "\n",
    "def build_huffman_tree():\n",
    "    while len(nodes) > 1:\n",
    "        nodes.sort(key=lambda x: x.freq)\n",
    "        left = nodes.pop(0)\n",
    "        right = nodes.pop(0)\n",
    "        \n",
    "        merged = Node(freq=left.freq + right.freq)\n",
    "        merged.left = left\n",
    "        merged.right = right\n",
    "        \n",
    "        nodes.append(merged)\n",
    "\n",
    "    return nodes[0]\n",
    "\n",
    "def generate_huffman_codes(node, current_code, codes):\n",
    "    if node is None:\n",
    "        return\n",
    "\n",
    "    if node.char is not None:\n",
    "        codes[node.char] = current_code\n",
    "\n",
    "    generate_huffman_codes(node.left, current_code + '0', codes)\n",
    "    generate_huffman_codes(node.right, current_code + '1', codes)\n",
    "\n",
    "def huffman_encoding(word):\n",
    "    global nodes\n",
    "    nodes = []\n",
    "    calculate_frequencies(word)\n",
    "    root = build_huffman_tree()\n",
    "    codes = {}\n",
    "    generate_huffman_codes(root, '', codes)\n",
    "    return codes\n",
    "\n",
    "def huffman_decoding(encoded_word, codes):\n",
    "    current_code = ''\n",
    "    decoded_chars = []\n",
    "\n",
    "    # Invert the codes dictionary to get the reverse mapping\n",
    "    code_to_char = {v: k for k, v in codes.items()}\n",
    "\n",
    "    for bit in encoded_word:\n",
    "        current_code += bit\n",
    "        if current_code in code_to_char:\n",
    "            decoded_chars.append(code_to_char[current_code])\n",
    "            current_code = ''\n",
    "\n",
    "    return ''.join(decoded_chars)\n",
    "\n",
    "word = \"ABRACADABRA\"\n",
    "codes = huffman_encoding(word)\n",
    "encoded_word = ''.join(codes[char] for char in word)\n",
    "decoded_word = huffman_decoding(encoded_word, codes)\n",
    "\n",
    "print(\"Initial word:\", word)\n",
    "print(\"Huffman code:\", encoded_word)\n",
    "print(\"Conversion table:\", codes)\n",
    "print(\"Decoded word:\", decoded_word)"
   ]
  },
  {
   "cell_type": "code",
   "execution_count": null,
   "id": "0b8b93c1-f132-4329-9a28-655c7acd6ab3",
   "metadata": {},
   "outputs": [],
   "source": []
  }
 ],
 "metadata": {
  "kernelspec": {
   "display_name": "Python 3 (ipykernel)",
   "language": "python",
   "name": "python3"
  },
  "language_info": {
   "codemirror_mode": {
    "name": "ipython",
    "version": 3
   },
   "file_extension": ".py",
   "mimetype": "text/x-python",
   "name": "python",
   "nbconvert_exporter": "python",
   "pygments_lexer": "ipython3",
   "version": "3.13.5"
  }
 },
 "nbformat": 4,
 "nbformat_minor": 5
}
